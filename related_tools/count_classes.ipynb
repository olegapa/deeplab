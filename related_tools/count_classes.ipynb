{
 "cells": [
  {
   "cell_type": "code",
   "execution_count": 5,
   "id": "f61f6a3b",
   "metadata": {},
   "outputs": [],
   "source": [
    "import os\n",
    "import json\n",
    "INPUT_DATA = 'jsons'"
   ]
  },
  {
   "cell_type": "code",
   "execution_count": 20,
   "id": "38215d77",
   "metadata": {},
   "outputs": [],
   "source": [
    "n_cls = 17\n",
    "cls_freq = dict()\n",
    "for i in range(0, 18):\n",
    "    cls_freq[i] = 0"
   ]
  },
  {
   "cell_type": "code",
   "execution_count": 13,
   "id": "32471681",
   "metadata": {},
   "outputs": [],
   "source": [
    "files_in_directory = [\n",
    "    os.path.join(INPUT_DATA, f)\n",
    "    for f in os.listdir(INPUT_DATA)\n",
    "    if (\n",
    "        os.path.isfile(os.path.join(INPUT_DATA, f))\n",
    "    )\n",
    "]\n",
    "files_in_directory = [\n",
    "    file for file in files_in_directory if file.split('.')[-1] == 'json'\n",
    "]"
   ]
  },
  {
   "cell_type": "code",
   "execution_count": 8,
   "id": "80e47aae",
   "metadata": {},
   "outputs": [
    {
     "ename": "KeyError",
     "evalue": "'class'",
     "output_type": "error",
     "traceback": [
      "\u001b[1;31m---------------------------------------------------------------------------\u001b[0m",
      "\u001b[1;31mKeyError\u001b[0m                                  Traceback (most recent call last)",
      "\u001b[1;32m~\\AppData\\Local\\Temp/ipykernel_21908/539660746.py\u001b[0m in \u001b[0;36m<module>\u001b[1;34m\u001b[0m\n\u001b[0;32m      5\u001b[0m         \u001b[1;32mfor\u001b[0m \u001b[0mchain\u001b[0m \u001b[1;32min\u001b[0m \u001b[0mitem\u001b[0m\u001b[1;33m[\u001b[0m\u001b[1;34m'file_chains'\u001b[0m\u001b[1;33m]\u001b[0m\u001b[1;33m:\u001b[0m\u001b[1;33m\u001b[0m\u001b[1;33m\u001b[0m\u001b[0m\n\u001b[0;32m      6\u001b[0m             \u001b[1;32mfor\u001b[0m \u001b[0mframe\u001b[0m \u001b[1;32min\u001b[0m \u001b[0mchain\u001b[0m\u001b[1;33m[\u001b[0m\u001b[1;34m'chain_markups'\u001b[0m\u001b[1;33m]\u001b[0m\u001b[1;33m:\u001b[0m\u001b[1;33m\u001b[0m\u001b[1;33m\u001b[0m\u001b[0m\n\u001b[1;32m----> 7\u001b[1;33m                 \u001b[0mcls_freq\u001b[0m\u001b[1;33m[\u001b[0m\u001b[0mint\u001b[0m\u001b[1;33m(\u001b[0m\u001b[0mframe\u001b[0m\u001b[1;33m[\u001b[0m\u001b[1;34m'markup_path'\u001b[0m\u001b[1;33m]\u001b[0m\u001b[1;33m[\u001b[0m\u001b[1;34m'class'\u001b[0m\u001b[1;33m]\u001b[0m\u001b[1;33m)\u001b[0m\u001b[1;33m]\u001b[0m \u001b[1;33m+=\u001b[0m \u001b[1;36m1\u001b[0m\u001b[1;33m\u001b[0m\u001b[1;33m\u001b[0m\u001b[0m\n\u001b[0m",
      "\u001b[1;31mKeyError\u001b[0m: 'class'"
     ]
    }
   ],
   "source": [
    "#new case\n",
    "for file in files_in_directory:\n",
    "    with open(file, 'r', encoding='utf-8') as input_json:\n",
    "        json_data = json.load(input_json)\n",
    "    for item in json_data['files']:\n",
    "        for chain in item['file_chains']:\n",
    "            for frame in chain['chain_markups']:\n",
    "                cls_freq[int(frame['markup_path']['class'])] += 1"
   ]
  },
  {
   "cell_type": "code",
   "execution_count": 23,
   "id": "719f7b78",
   "metadata": {},
   "outputs": [],
   "source": [
    "#old case\n",
    "for file in files_in_directory:\n",
    "    with open(file, 'r', encoding='utf-8') as input_json:\n",
    "        json_data = json.load(input_json)\n",
    "    for item in json_data['files']:\n",
    "        for chain in item['file_chains']:\n",
    "            for frame in chain['chain_markups']:\n",
    "                if frame['markup_path'].get('polygons', None):\n",
    "                    for cls, pol in frame['markup_path']['polygons'].items():\n",
    "                        cls_freq[int(cls)] += 1"
   ]
  },
  {
   "cell_type": "code",
   "execution_count": null,
   "id": "3d143e74",
   "metadata": {},
   "outputs": [],
   "source": []
  },
  {
   "cell_type": "code",
   "execution_count": 24,
   "id": "eefc4ac1",
   "metadata": {},
   "outputs": [
    {
     "data": {
      "text/plain": [
       "{0: 27404,\n",
       " 1: 762,\n",
       " 2: 9217,\n",
       " 3: 1911,\n",
       " 4: 1,\n",
       " 5: 7448,\n",
       " 6: 3611,\n",
       " 7: 9034,\n",
       " 8: 1326,\n",
       " 9: 244,\n",
       " 10: 24,\n",
       " 11: 8,\n",
       " 12: 0,\n",
       " 13: 0,\n",
       " 14: 41,\n",
       " 15: 3918,\n",
       " 16: 497,\n",
       " 17: 18}"
      ]
     },
     "execution_count": 24,
     "metadata": {},
     "output_type": "execute_result"
    }
   ],
   "source": [
    "cls_freq"
   ]
  },
  {
   "cell_type": "code",
   "execution_count": 1,
   "id": "c18fc1bd",
   "metadata": {},
   "outputs": [
    {
     "data": {
      "text/plain": [
       "True"
      ]
     },
     "execution_count": 1,
     "metadata": {},
     "output_type": "execute_result"
    }
   ],
   "source": [
    "bool(\"False\")"
   ]
  },
  {
   "cell_type": "code",
   "execution_count": null,
   "id": "333e96f5",
   "metadata": {},
   "outputs": [],
   "source": []
  }
 ],
 "metadata": {
  "kernelspec": {
   "display_name": "Python 3 (ipykernel)",
   "language": "python",
   "name": "python3"
  },
  "language_info": {
   "codemirror_mode": {
    "name": "ipython",
    "version": 3
   },
   "file_extension": ".py",
   "mimetype": "text/x-python",
   "name": "python",
   "nbconvert_exporter": "python",
   "pygments_lexer": "ipython3",
   "version": "3.9.7"
  }
 },
 "nbformat": 4,
 "nbformat_minor": 5
}
